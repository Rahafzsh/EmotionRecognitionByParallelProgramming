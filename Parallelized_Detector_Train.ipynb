{
 "cells": [
  {
   "cell_type": "code",
   "execution_count": 3,
   "metadata": {},
   "outputs": [],
   "source": [
    "import os\n",
    "import zipfile\n",
    "import time\n",
    "import tensorflow as tf\n",
    "from tensorflow.keras.models import Sequential\n",
    "from tensorflow.keras.layers import Conv2D, MaxPooling2D, Dropout, Flatten, Dense\n",
    "from tensorflow.keras.optimizers import Adam\n",
    "from tensorflow.keras.preprocessing.image import ImageDataGenerator\n",
    "from tensorflow.keras.callbacks import TensorBoard, EarlyStopping\n",
    "\n",
    "# Configure parallelism parameters\n",
    "tf.config.threading.set_intra_op_parallelism_threads(8)\n",
    "tf.config.threading.set_inter_op_parallelism_threads(8)\n",
    "\n",
    "# Extract the zip files for training and testing data.\n",
    "with zipfile.ZipFile('train.zip', 'r') as zip_ref:\n",
    "    zip_ref.extractall('train_dataset')\n",
    "\n",
    "with zipfile.ZipFile('test.zip', 'r') as zip_ref:\n",
    "    zip_ref.extractall('test_dataset')\n"
   ]
  },
  {
   "cell_type": "code",
   "execution_count": 4,
   "metadata": {},
   "outputs": [
    {
     "name": "stdout",
     "output_type": "stream",
     "text": [
      "Found 23894 images belonging to 5 classes.\n",
      "Found 5989 images belonging to 5 classes.\n",
      "Found 23894 images belonging to 5 classes.\n",
      "Found 5989 images belonging to 5 classes.\n",
      "Found 23894 images belonging to 5 classes.\n",
      "Found 5989 images belonging to 5 classes.\n",
      "Found 23894 images belonging to 5 classes.\n",
      "Found 5989 images belonging to 5 classes.\n",
      "Found 23894 images belonging to 5 classes.\n",
      "Found 5989 images belonging to 5 classes.\n",
      "\n",
      "Average Data Preprocessing Time: 1594.89570 milliseconds\n"
     ]
    }
   ],
   "source": [
    "# Running the function 5 times and calculating the average\n",
    "total_time = 0\n",
    "for i in range(5):\n",
    "    def sharpen_image(image):\n",
    "        # Apply Gaussian blur\n",
    "        blurred = tf.image.adjust_contrast(image, contrast_factor=3)\n",
    "    # Perform edge enhancement\n",
    "        sharp_image = tf.clip_by_value(image * 2 - blurred, 0.0, 1.0)\n",
    "        return sharp_image\n",
    "\n",
    "    start_time_preprocessing_dataset = time.time() * 1000 #this time include two preprocessing functions: load_and_preprocess_image and sharpen_image\n",
    "\n",
    "    train_data_gen = ImageDataGenerator( preprocessing_function=sharpen_image )\n",
    "    test_data_gen = ImageDataGenerator( preprocessing_function=sharpen_image)\n",
    "\n",
    "    train_data_gen = ImageDataGenerator(rescale=1./255)\n",
    "    test_data_gen = ImageDataGenerator(rescale=1./255)\n",
    "\n",
    "    train_generator = train_data_gen.flow_from_directory(\n",
    "        'train_dataset/train',\n",
    "        target_size=(48, 48),\n",
    "        batch_size=32,\n",
    "        color_mode=\"grayscale\",\n",
    "        class_mode='categorical'\n",
    "    )\n",
    "\n",
    "    test_generator = test_data_gen.flow_from_directory(\n",
    "        'test_dataset/test',\n",
    "        target_size=(48, 48),\n",
    "        batch_size=32,\n",
    "        color_mode=\"grayscale\",\n",
    "        class_mode='categorical'\n",
    "    )\n",
    "\n",
    "    end_time_preprocessing_dataset = time.time() * 1000\n",
    "    data_processing_time = end_time_preprocessing_dataset - start_time_preprocessing_dataset\n",
    "    total_time += data_processing_time\n",
    "\n",
    "average_time = total_time / 5\n",
    "print(\"\\nAverage Data Preprocessing Time: {:.5f} milliseconds\".format(average_time))\n"
   ]
  },
  {
   "cell_type": "code",
   "execution_count": 5,
   "metadata": {},
   "outputs": [
    {
     "name": "stdout",
     "output_type": "stream",
     "text": [
      "Epoch 1/30\n",
      "747/747 [==============================] - 156s 207ms/step - loss: 1.5116 - accuracy: 0.3358 - val_loss: 1.3442 - val_accuracy: 0.4528\n",
      "Epoch 2/30\n",
      "747/747 [==============================] - 171s 229ms/step - loss: 1.3034 - accuracy: 0.4700 - val_loss: 1.2272 - val_accuracy: 0.5073\n",
      "Epoch 3/30\n",
      "747/747 [==============================] - 153s 205ms/step - loss: 1.2081 - accuracy: 0.5162 - val_loss: 1.1594 - val_accuracy: 0.5261\n",
      "Epoch 4/30\n",
      "747/747 [==============================] - 173s 231ms/step - loss: 1.1301 - accuracy: 0.5495 - val_loss: 1.0737 - val_accuracy: 0.5687\n",
      "Epoch 5/30\n",
      "747/747 [==============================] - 170s 228ms/step - loss: 1.0689 - accuracy: 0.5760 - val_loss: 1.0156 - val_accuracy: 0.5998\n",
      "Epoch 6/30\n",
      "747/747 [==============================] - 157s 210ms/step - loss: 1.0122 - accuracy: 0.6001 - val_loss: 0.9910 - val_accuracy: 0.6106\n",
      "Epoch 7/30\n",
      "747/747 [==============================] - 171s 228ms/step - loss: 0.9679 - accuracy: 0.6223 - val_loss: 0.9496 - val_accuracy: 0.6220\n",
      "Epoch 8/30\n",
      "747/747 [==============================] - 171s 230ms/step - loss: 0.9306 - accuracy: 0.6368 - val_loss: 0.9292 - val_accuracy: 0.6333\n",
      "Epoch 9/30\n",
      "747/747 [==============================] - 172s 230ms/step - loss: 0.8970 - accuracy: 0.6524 - val_loss: 0.9074 - val_accuracy: 0.6459\n",
      "Epoch 10/30\n",
      "747/747 [==============================] - 170s 228ms/step - loss: 0.8650 - accuracy: 0.6653 - val_loss: 0.8839 - val_accuracy: 0.6552\n",
      "Epoch 11/30\n",
      "747/747 [==============================] - 160s 214ms/step - loss: 0.8338 - accuracy: 0.6775 - val_loss: 0.8704 - val_accuracy: 0.6589\n",
      "Epoch 12/30\n",
      "747/747 [==============================] - 138s 185ms/step - loss: 0.8080 - accuracy: 0.6893 - val_loss: 0.8721 - val_accuracy: 0.6570\n",
      "Epoch 13/30\n",
      "747/747 [==============================] - 147s 197ms/step - loss: 0.7799 - accuracy: 0.6985 - val_loss: 0.8522 - val_accuracy: 0.6701\n",
      "Epoch 14/30\n",
      "747/747 [==============================] - 141s 189ms/step - loss: 0.7627 - accuracy: 0.7089 - val_loss: 0.8543 - val_accuracy: 0.6662\n",
      "Epoch 15/30\n",
      "747/747 [==============================] - 143s 191ms/step - loss: 0.7357 - accuracy: 0.7177 - val_loss: 0.8342 - val_accuracy: 0.6746\n",
      "Epoch 16/30\n",
      "747/747 [==============================] - 141s 189ms/step - loss: 0.7093 - accuracy: 0.7296 - val_loss: 0.8376 - val_accuracy: 0.6754\n",
      "Epoch 17/30\n",
      "747/747 [==============================] - 139s 186ms/step - loss: 0.6850 - accuracy: 0.7383 - val_loss: 0.8278 - val_accuracy: 0.6807\n",
      "Epoch 18/30\n",
      "747/747 [==============================] - 147s 197ms/step - loss: 0.6596 - accuracy: 0.7498 - val_loss: 0.8289 - val_accuracy: 0.6797\n",
      "Epoch 19/30\n",
      "747/747 [==============================] - 138s 185ms/step - loss: 0.6346 - accuracy: 0.7581 - val_loss: 0.8335 - val_accuracy: 0.6823\n",
      "Epoch 20/30\n",
      "747/747 [==============================] - 154s 206ms/step - loss: 0.6096 - accuracy: 0.7697 - val_loss: 0.8347 - val_accuracy: 0.6836\n",
      "Epoch 21/30\n",
      "747/747 [==============================] - 136s 182ms/step - loss: 0.5890 - accuracy: 0.7754 - val_loss: 0.8426 - val_accuracy: 0.6828\n",
      "Epoch 22/30\n",
      "747/747 [==============================] - 156s 209ms/step - loss: 0.5682 - accuracy: 0.7830 - val_loss: 0.8450 - val_accuracy: 0.6856\n",
      "Training Time: 3405556.86206 milliseconds\n"
     ]
    }
   ],
   "source": [
    "\n",
    "# Parameters\n",
    "batch_size = 32\n",
    "# Model Creation\n",
    "initial_learning_rate = 0.0001\n",
    "lr_schedule = tf.keras.optimizers.schedules.ExponentialDecay(\n",
    "    initial_learning_rate, decay_steps=100000, decay_rate=0.96, staircase=True\n",
    ")\n",
    "\n",
    "optimizer = Adam(learning_rate=lr_schedule)\n",
    "\n",
    "model = Sequential([\n",
    "    Conv2D(32, kernel_size=(3, 3), activation='relu', input_shape=(48, 48, 1)),\n",
    "    Conv2D(64, kernel_size=(3, 3), activation='relu'),\n",
    "    MaxPooling2D(pool_size=(2, 2)),\n",
    "    Dropout(0.25),\n",
    "    Conv2D(128, kernel_size=(3, 3), activation='relu'),\n",
    "    MaxPooling2D(pool_size=(2, 2)),\n",
    "    Conv2D(128, kernel_size=(3, 3), activation='relu'),\n",
    "    MaxPooling2D(pool_size=(2, 2)),\n",
    "    Dropout(0.25),\n",
    "    Flatten(),\n",
    "    Dense(1024, activation='relu'),\n",
    "    Dropout(0.5),\n",
    "    Dense(5, activation='softmax')  \n",
    "])      \n",
    "\n",
    "model.compile(\n",
    "    loss='categorical_crossentropy',\n",
    "    optimizer=optimizer,\n",
    "    metrics=['accuracy']\n",
    ")      \n",
    "\n",
    "\n",
    "# Create a TensorBoard callback for logging\n",
    "logdir = 'logs'\n",
    "tensorboard_callback = TensorBoard(log_dir=logdir)\n",
    "\n",
    "# Configure EarlyStopping\n",
    "early_stopping_callback = EarlyStopping(\n",
    "    monitor='val_loss',  # Monitor validation loss\n",
    "    patience=5,         # Number of epochs with no improvement after which training will be stopped\n",
    "    restore_best_weights=True  # Restores model weights from the epoch with the best value of the monitored metric.\n",
    ")\n",
    "\n",
    "# Train the model\n",
    "start_time_training = time.time() * 1000\n",
    "emotion_model_info = model.fit(\n",
    "    train_generator,  # Use the train_dataset instead of train_generator\n",
    "    epochs=30,\n",
    "    steps_per_epoch=len(train_generator),  # Adjust step size according to train_dataset\n",
    "    validation_data=test_generator,  # Use the validation_dataset instead of test_generator\n",
    "    validation_steps=len(test_generator),  # Adjust step size according to validation_dataset\n",
    "    callbacks=[tensorboard_callback, early_stopping_callback]\n",
    ")\n",
    "\n",
    "end_time_training = time.time() * 1000\n",
    "training_time = end_time_training - start_time_training\n",
    "print(\"Training Time: {:.5f} milliseconds\".format(training_time))\n"
   ]
  },
  {
   "cell_type": "code",
   "execution_count": 6,
   "metadata": {},
   "outputs": [],
   "source": [
    "# save model structure in jason file\n",
    "model_json = model.to_json()\n",
    "with open(\"parallel_emotion_model.json\", \"w\") as json_file:\n",
    "    json_file.write(model_json)\n",
    "\n",
    "# save trained model weight in .h5 file\n",
    "model.save_weights('parallel_emotion_model.h5')"
   ]
  },
  {
   "cell_type": "code",
   "execution_count": 7,
   "metadata": {},
   "outputs": [
    {
     "name": "stderr",
     "output_type": "stream",
     "text": [
      "<frozen importlib._bootstrap>:228: RuntimeWarning: scipy._lib.messagestream.MessageStream size changed, may indicate binary incompatibility. Expected 56 from C header, got 64 from PyObject\n"
     ]
    }
   ],
   "source": [
    "import numpy as np\n",
    "from keras.models import model_from_json\n",
    "import matplotlib.pyplot as plt\n",
    "from keras.preprocessing.image import ImageDataGenerator\n",
    "from sklearn.metrics import confusion_matrix, classification_report,ConfusionMatrixDisplay,accuracy_score"
   ]
  },
  {
   "cell_type": "code",
   "execution_count": 11,
   "metadata": {},
   "outputs": [
    {
     "name": "stdout",
     "output_type": "stream",
     "text": [
      "Loaded model from disk\n",
      "188/188 [==============================] - 6s 32ms/step\n"
     ]
    }
   ],
   "source": [
    "emotion_dict = {0: \"Angry\", 1: \"Happy\", 2: \"Neutral\", 3: \"Sad\", 4: \"Surprised\"}\n",
    "# load json and create model\n",
    "json_file = open('parallel_emotion_model.json', 'r')\n",
    "loaded_model_json = json_file.read()\n",
    "json_file.close()\n",
    "emotion_model = model_from_json(loaded_model_json)\n",
    "# load weights into new model\n",
    "emotion_model.load_weights(\"parallel_emotion_model.h5\")\n",
    "print(\"Loaded model from disk\")\n",
    "predictions = emotion_model.predict(test_generator)"
   ]
  },
  {
   "cell_type": "code",
   "execution_count": 12,
   "metadata": {},
   "outputs": [
    {
     "name": "stdout",
     "output_type": "stream",
     "text": [
      "-----------------------------------------------------------------\n",
      "[[138 304 196 188 132]\n",
      " [300 518 370 304 259]\n",
      " [157 390 262 244 173]\n",
      " [181 398 243 227 178]\n",
      " [137 244 175 151 120]]\n",
      "-----------------------------------------------------------------\n"
     ]
    },
    {
     "data": {
      "image/png": "[encoded data removed]",
      "text/plain": [
       "<Figure size 432x288 with 2 Axes>"
      ]
     },
     "metadata": {
      "needs_background": "light"
     },
     "output_type": "display_data"
    }
   ],
   "source": [
    "emotion_label = [\"Angry\",\"Happy\",\"Neutral\",\"Sad\",\"Surprised\"]\n",
    "print(\"-----------------------------------------------------------------\")\n",
    "# confusion matrix\n",
    "c_matrix = confusion_matrix(test_generator.classes, predictions.argmax(axis=1))\n",
    "print(c_matrix)\n",
    "print(\"-----------------------------------------------------------------\")\n",
    "cm_display = ConfusionMatrixDisplay(confusion_matrix=c_matrix, display_labels=emotion_label)\n",
    "cm_display.plot(cmap=plt.cm.Blues)\n",
    "plt.show()"
   ]
  },
  {
   "cell_type": "code",
   "execution_count": 13,
   "metadata": {},
   "outputs": [
    {
     "name": "stdout",
     "output_type": "stream",
     "text": [
      "-----------------------------------------------------------------\n",
      "              precision    recall  f1-score   support\n",
      "\n",
      "           0       0.15      0.14      0.15       958\n",
      "           1       0.28      0.30      0.29      1751\n",
      "           2       0.21      0.21      0.21      1226\n",
      "           3       0.20      0.19      0.19      1227\n",
      "           4       0.14      0.15      0.14       827\n",
      "\n",
      "    accuracy                           0.21      5989\n",
      "   macro avg       0.20      0.20      0.20      5989\n",
      "weighted avg       0.21      0.21      0.21      5989\n",
      "\n"
     ]
    }
   ],
   "source": [
    "# Classification report\n",
    "emotion_dict = {0: \"Angry\", 1: \"Happy\", 2: \"Neutral\", 3: \"Sad\", 4: \"Surprised\"}\n",
    "print(\"-----------------------------------------------------------------\")\n",
    "print(classification_report(test_generator.classes, predictions.argmax(axis=1)))\n"
   ]
  },
  {
   "cell_type": "code",
   "execution_count": 14,
   "metadata": {},
   "outputs": [
    {
     "name": "stdout",
     "output_type": "stream",
     "text": [
      "Model: \"sequential\"\n",
      "_________________________________________________________________\n",
      " Layer (type)                Output Shape              Param #   \n",
      "=================================================================\n",
      " conv2d (Conv2D)             (None, 46, 46, 32)        320       \n",
      "                                                                 \n",
      " conv2d_1 (Conv2D)           (None, 44, 44, 64)        18496     \n",
      "                                                                 \n",
      " max_pooling2d (MaxPooling2D  (None, 22, 22, 64)       0         \n",
      " )                                                               \n",
      "                                                                 \n",
      " dropout (Dropout)           (None, 22, 22, 64)        0         \n",
      "                                                                 \n",
      " conv2d_2 (Conv2D)           (None, 20, 20, 128)       73856     \n",
      "                                                                 \n",
      " max_pooling2d_1 (MaxPooling  (None, 10, 10, 128)      0         \n",
      " 2D)                                                             \n",
      "                                                                 \n",
      " conv2d_3 (Conv2D)           (None, 8, 8, 128)         147584    \n",
      "                                                                 \n",
      " max_pooling2d_2 (MaxPooling  (None, 4, 4, 128)        0         \n",
      " 2D)                                                             \n",
      "                                                                 \n",
      " dropout_1 (Dropout)         (None, 4, 4, 128)         0         \n",
      "                                                                 \n",
      " flatten (Flatten)           (None, 2048)              0         \n",
      "                                                                 \n",
      " dense (Dense)               (None, 1024)              2098176   \n",
      "                                                                 \n",
      " dropout_2 (Dropout)         (None, 1024)              0         \n",
      "                                                                 \n",
      " dense_1 (Dense)             (None, 5)                 5125      \n",
      "                                                                 \n",
      "=================================================================\n",
      "Total params: 2,343,557\n",
      "Trainable params: 2,343,557\n",
      "Non-trainable params: 0\n",
      "_________________________________________________________________\n"
     ]
    }
   ],
   "source": [
    "model.summary()"
   ]
  },
  {
   "cell_type": "code",
   "execution_count": 15,
   "metadata": {},
   "outputs": [
    {
     "name": "stdout",
     "output_type": "stream",
     "text": [
      "(None, 48, 48, 1)\n"
     ]
    }
   ],
   "source": [
    "print(model.input_shape)"
   ]
  },
  {
   "cell_type": "code",
   "execution_count": 16,
   "metadata": {},
   "outputs": [
    {
     "data": {
      "image/png": "[encoded data removed]",
      "text/plain": [
       "<Figure size 432x288 with 1 Axes>"
      ]
     },
     "metadata": {
      "needs_background": "light"
     },
     "output_type": "display_data"
    }
   ],
   "source": [
    "import matplotlib.pyplot as plt\n",
    "\n",
    "#Loss data \n",
    "fig = plt.figure()\n",
    "plt.plot(emotion_model_info.history['loss'], color='teal', label='loss')\n",
    "plt.plot(emotion_model_info.history['val_loss'], color='orange', label='val_loss')\n",
    "fig.suptitle('Loss', fontsize=20)\n",
    "plt.legend(loc=\"upper left\")\n",
    "plt.show()"
   ]
  },
  {
   "cell_type": "code",
   "execution_count": 17,
   "metadata": {},
   "outputs": [
    {
     "data": {
      "image/png": "[encoded data removed]",
      "text/plain": [
       "<Figure size 432x288 with 1 Axes>"
      ]
     },
     "metadata": {
      "needs_background": "light"
     },
     "output_type": "display_data"
    }
   ],
   "source": [
    "#accuracy\n",
    "fig = plt.figure()\n",
    "plt.plot(emotion_model_info.history['accuracy'], color='teal', label='accuracy')\n",
    "plt.plot(emotion_model_info.history['val_accuracy'], color='orange', label='val_accuracy')\n",
    "fig.suptitle('Accuracy', fontsize=20)\n",
    "plt.legend(loc=\"upper left\")\n",
    "plt.show()"
   ]
  }
 ],
 "metadata": {
  "kernelspec": {
   "display_name": "base",
   "language": "python",
   "name": "python3"
  },
  "language_info": {
   "codemirror_mode": {
    "name": "ipython",
    "version": 3
   },
   "file_extension": ".py",
   "mimetype": "text/x-python",
   "name": "python",
   "nbconvert_exporter": "python",
   "pygments_lexer": "ipython3",
   "version": "3.9.12"
  }
 },
 "nbformat": 4,
 "nbformat_minor": 2
}
